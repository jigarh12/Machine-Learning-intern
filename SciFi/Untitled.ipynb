{
 "cells": [
  {
   "cell_type": "code",
   "execution_count": 1,
   "metadata": {},
   "outputs": [],
   "source": [
    "import os\n",
    "import time\n",
    "import subprocess\n",
    "import json"
   ]
  },
  {
   "cell_type": "code",
   "execution_count": 2,
   "metadata": {},
   "outputs": [],
   "source": [
    "import requests\n",
    "import datetime\n",
    "import wikipedia\n",
    "import webbrowser"
   ]
  },
  {
   "cell_type": "code",
   "execution_count": 3,
   "metadata": {},
   "outputs": [],
   "source": [
    "import wolframalpha"
   ]
  },
  {
   "cell_type": "code",
   "execution_count": 4,
   "metadata": {},
   "outputs": [],
   "source": [
    "import speech_recognition as sr"
   ]
  },
  {
   "cell_type": "code",
   "execution_count": 5,
   "metadata": {},
   "outputs": [],
   "source": [
    "import pyttsx3"
   ]
  },
  {
   "cell_type": "code",
   "execution_count": 6,
   "metadata": {},
   "outputs": [
    {
     "name": "stdout",
     "output_type": "stream",
     "text": [
      "Loading your AI Personal Assistant Jarvis!\n"
     ]
    }
   ],
   "source": [
    "print(\"Loading your AI Personal Assistant Jarvis!\")"
   ]
  },
  {
   "cell_type": "code",
   "execution_count": 7,
   "metadata": {},
   "outputs": [],
   "source": [
    "engine = pyttsx3.init('sapi5')"
   ]
  },
  {
   "cell_type": "code",
   "execution_count": 8,
   "metadata": {},
   "outputs": [],
   "source": [
    "voices = engine.getProperty('voices')\n",
    "engine.setProperty(\"voice\",'voices[0].id')"
   ]
  },
  {
   "cell_type": "code",
   "execution_count": 9,
   "metadata": {},
   "outputs": [],
   "source": [
    "def speak(text):\n",
    "    engine.say(text)\n",
    "    engine.runAndWait()"
   ]
  },
  {
   "cell_type": "code",
   "execution_count": 10,
   "metadata": {},
   "outputs": [],
   "source": [
    "def wishMe():\n",
    "    hour=datetime.datetime.now().hour\n",
    "    if hour >= 0 and hour <12:\n",
    "        speak(\"Hello Good Morning Mr.Jigar\")\n",
    "        print(\"Hello Good Morning Mr.Jigar\")\n",
    "    elif hour >= 12 and hour < 18:\n",
    "        speak(\"Hello Good Afternoon Mr.Jigar\")\n",
    "        print(\"Hello Good Afternoon Mr.Jigar\")\n",
    "    else:\n",
    "        speak(\"Its your bed time Mr.Jigar ,Good Night!\")\n",
    "        print(\"Its your bed time Mr.Jigar ,Good Night!\")"
   ]
  },
  {
   "cell_type": "code",
   "execution_count": 11,
   "metadata": {},
   "outputs": [],
   "source": [
    "def takeCommand():\n",
    "    r = sr.Recognizer()\n",
    "    with sr.Microphone() as source:\n",
    "        print(\"I am Listening....\")\n",
    "        audio = r.listen(source)\n",
    "    try:\n",
    "        statement = r.recognize_google(audio,language ='en-in')\n",
    "        print(f\"user said:{statement}\\n\")\n",
    "    \n",
    "    except Exception as e:\n",
    "        speak(\"Sorry! I Couldnot hear you, please repeat it!\")\n",
    "        print(\"Sorry! I Couldnot hear you, please repeat it!\")\n",
    "        return \"None\"\n",
    "    return statement"
   ]
  },
  {
   "cell_type": "code",
   "execution_count": 12,
   "metadata": {},
   "outputs": [
    {
     "name": "stdout",
     "output_type": "stream",
     "text": [
      "Its your bed time Mr.Jigar ,Good Night!\n"
     ]
    }
   ],
   "source": [
    "speak('Loading Your Personal AI Assistant Jarvis')\n",
    "wishMe()"
   ]
  },
  {
   "cell_type": "code",
   "execution_count": 14,
   "metadata": {},
   "outputs": [
    {
     "name": "stdout",
     "output_type": "stream",
     "text": [
      "I am Listening....\n",
      "user said:what is the time\n",
      "\n",
      "I am Listening....\n",
      "user said:Narendra Modi in Wikipedia\n",
      "\n",
      "Narendra Damodardas Modi (Gujarati pronunciation: [ˈnəɾendrə dɑmodəɾˈdɑs ˈmodiː] (listen); born 17 September 1950) is an Indian politician serving as the 14th and current Prime Minister of India since 2014. He was the Chief Minister of Gujarat from 2001 to 2014 and is the Member of Parliament for Varanasi. Modi is a member of the Bharatiya Janata Party (BJP) and of the Rashtriya Swayamsevak Sangh (RSS), a Hindu nationalist volunteer organisation. He is the first prime minister outside of the Indian National Congress to win two consecutive terms with a full majority and the second to complete five years in office after Atal Bihari Vajpayee.Born to a Gujarati family in Vadnagar, Modi helped his father sell tea as a child and has said he later ran his own stall. He was introduced to the RSS at the age of eight, beginning a long association with the organisation.\n",
      "I am Listening....\n",
      "user said:today's news\n",
      "\n",
      "I am Listening....\n",
      "user said:bhai\n",
      "\n",
      "I am Listening....\n",
      "user said:ok bye\n",
      "\n",
      "Jarvis Shutting down\n"
     ]
    }
   ],
   "source": [
    "if __name__ == '__main__':\n",
    "    \n",
    "    \n",
    "    while True:\n",
    "        speak('How can I help You Mr.Jigar')\n",
    "        statement = takeCommand().lower()\n",
    "        if statement == 0 : \n",
    "            continue\n",
    "        \n",
    "        if \"good bye\" in statement or \"okay bye\" in statement or \"bye\" in statement or \"stop\" in statement:\n",
    "            speak(\"Jarvis Shutting down\")\n",
    "            print(\"Jarvis Shutting down\")\n",
    "            break\n",
    "        \n",
    "        if 'wikipedia' in statement:\n",
    "            speak(\"searching wikipedia.......\")\n",
    "            statement = statement.replace(\"wikipedia\",\" \")\n",
    "            results = wikipedia.summary(statement,sentences = 5)\n",
    "            speak(\"According to wikipedia\")\n",
    "            print(results)\n",
    "            speak(results)\n",
    "        \n",
    "        elif \"open youtube\" in statement:\n",
    "            webbrowser.open_new_tab(\"https://www.youtube.com\")\n",
    "            speak(\"Opened Youtube\")\n",
    "            time.sleep(5)\n",
    "        \n",
    "        elif \"open google\"  in statement:\n",
    "            webbrowser.open_new_tab(\"https://www.google.com\")\n",
    "            speak(\"Opened Google engine\")\n",
    "            time.sleep(5)\n",
    "            \n",
    "        elif \"open gmail\"  in statement:\n",
    "            webbrowser.open_new_tab(\"gmail.com\")\n",
    "            speak(\"Opened Gmail\")\n",
    "            time.sleep(5)\n",
    "        \n",
    "        elif \"weather\" in statement:\n",
    "            api_key = \"8ef61edcf1c576d65d836254e11ea420\"\n",
    "            base_url=\"https://api.openweathermap.org/data/2.5/weather?\"\n",
    "            speak(\"Whats the city name\")\n",
    "            city_name = takeCommand()\n",
    "            complete_url = base_url +\"appid =\"+api_key+\"&q=\"+city_name\n",
    "            response = requests.get(complete_url)\n",
    "            x = response.json\n",
    "            if x[\"cod\"] != \"404\":\n",
    "                y = x[\"main\"]\n",
    "                current_temperature = y[\"temp\"]\n",
    "                #Celsius = current_temperature - 273.15\n",
    "                current_humidity = y[\"humidity\"]\n",
    "                z = x[\"weather\"]\n",
    "                weather_description = z[0][\"description\"]\n",
    "                speak(\"temperatue is\"+str(current_temperature)+\"\\n humidity is \"+str(current_humidity)+\"\\n Weather description\"+str(weather_description))\n",
    "                print(\"temperatue is\"+str(current_temperature)+\"\\n humidity is \"+str(current_humidity)+\"\\n Weather description\"+str(weather_description))\n",
    "            else:\n",
    "                speak(\"City not found\")\n",
    "                print(\"City not found\")\n",
    "                \n",
    "        elif \"time\" in statement:\n",
    "            strTime=datetime.datetime.now().strftime(\"%H:%M:%S\")\n",
    "            speak(f\"the time is {strTime}\")\n",
    "            time.sleep(5)\n",
    "        \n",
    "        elif \"who are you\" in statement or \"what can you do\" in statement:\n",
    "            speak(\"\"\"I am Jarvis version 1 point O , built my Mr Jigar. I can do simple basic things. you can me to perform tasks \n",
    "                  like opening google engine , opening news headlines, browsing on youtube, simple calculations , weather information,\n",
    "                  open stack overflow . i can perform these tasks for you. hope you would like me!\"\"\")\n",
    "            time.sleep(5)\n",
    "        \n",
    "        elif \"who made you\" in statement or \"who created you\" in statement or \"who discovered you\" in statement:\n",
    "            speak(\"I was Built by Mr.Jigar\")\n",
    "            print(\"I was Built by Mr.Jigar\")\n",
    "            time.sleep(5)\n",
    "        \n",
    "        elif \"open stack overflow\" in statement:\n",
    "            webbrowser.open_new_tab(\"https://stackoverflow.com/\")\n",
    "            speak(\"Opened Stack overflow\")\n",
    "            time.sleep(5)\n",
    "            \n",
    "        elif \"news\" in statement:\n",
    "            news = webbrowser.open_new_tab(\"https://timesofindia.indiatimes.com/home/headlines\")\n",
    "            speak(\"Here are some headlines from Times of India -- Happy Reading Mr. Jigar\")\n",
    "            time.sleep(5)\n",
    "            \n",
    "        elif 'search' in statement:\n",
    "            statement = statement.replace(\"search\", \" \")\n",
    "            webbrowser.open_new_tab(\"statement\")\n",
    "            time.sleep(5)\n",
    "            \n",
    "        elif \"ask\" in statement:\n",
    "            speak(\"I can answer to the computational and geographical questions. Do just try me. What do you want to ask?\")\n",
    "            question = takeCommand()\n",
    "            app_id = \"R2K75H-7ELALHR35X\"\n",
    "            Client = wolframalpha.Client(app_id)\n",
    "            res = Client.query(question)\n",
    "            answer = next(res.results).text\n",
    "            speak(answer)\n",
    "            print(answer)\n",
    "            time.sleep(5)\n",
    "            \n",
    "        elif \"log off\" in statement or \"sign out\" in statement or \"shut down\" in statement:\n",
    "            speak(\"OK, Your PC will shut down in 10 seconds. Please, make sure you have saved all your work and closed all applications\")\n",
    "            subprocess.call(['shutdown',\"/l\"])\n",
    "\n",
    "time.sleep(3)"
   ]
  },
  {
   "cell_type": "code",
   "execution_count": null,
   "metadata": {},
   "outputs": [],
   "source": []
  },
  {
   "cell_type": "code",
   "execution_count": null,
   "metadata": {},
   "outputs": [],
   "source": []
  }
 ],
 "metadata": {
  "kernelspec": {
   "display_name": "Python 3",
   "language": "python",
   "name": "python3"
  },
  "language_info": {
   "codemirror_mode": {
    "name": "ipython",
    "version": 3
   },
   "file_extension": ".py",
   "mimetype": "text/x-python",
   "name": "python",
   "nbconvert_exporter": "python",
   "pygments_lexer": "ipython3",
   "version": "3.7.6"
  }
 },
 "nbformat": 4,
 "nbformat_minor": 4
}
